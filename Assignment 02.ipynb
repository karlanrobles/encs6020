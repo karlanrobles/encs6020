{
 "cells": [
  {
   "cell_type": "markdown",
   "id": "53469076",
   "metadata": {},
   "source": [
    "# Assignment 02\n",
    "\n",
    "First, set the coefficient matrix A and the variable vector x. You may use an off-the-shelf random number generator function to create A and x matrices."
   ]
  },
  {
   "cell_type": "code",
   "execution_count": 1,
   "id": "71926c0a",
   "metadata": {},
   "outputs": [],
   "source": [
    "import numpy as np"
   ]
  },
  {
   "cell_type": "code",
   "execution_count": 2,
   "id": "ef33e514",
   "metadata": {},
   "outputs": [
    {
     "data": {
      "text/plain": [
       "array([[3, 1, 3],\n",
       "       [9, 0, 7],\n",
       "       [7, 4, 5]])"
      ]
     },
     "execution_count": 2,
     "metadata": {},
     "output_type": "execute_result"
    }
   ],
   "source": [
    "A = np.random.randint(10, size=(3, 3))\n",
    "A"
   ]
  },
  {
   "cell_type": "code",
   "execution_count": 3,
   "id": "1fd50892",
   "metadata": {},
   "outputs": [
    {
     "data": {
      "text/plain": [
       "array([9, 5, 1])"
      ]
     },
     "execution_count": 3,
     "metadata": {},
     "output_type": "execute_result"
    }
   ],
   "source": [
    "x = np.random.randint(10, size=3)\n",
    "x "
   ]
  },
  {
   "cell_type": "markdown",
   "id": "7bc6871d",
   "metadata": {},
   "source": [
    "Using these two, obtain the outcome vector b such that Ax = b. "
   ]
  },
  {
   "cell_type": "code",
   "execution_count": 4,
   "id": "f8593383",
   "metadata": {},
   "outputs": [
    {
     "data": {
      "text/plain": [
       "array([35, 88, 88])"
      ]
     },
     "execution_count": 4,
     "metadata": {},
     "output_type": "execute_result"
    }
   ],
   "source": [
    "b = np.dot(A, x)\n",
    "b"
   ]
  },
  {
   "cell_type": "markdown",
   "id": "b8328e62",
   "metadata": {},
   "source": [
    "# a. Obtain the closed-form solution of Ax =b. Print the estimated solution, x. Test with both regular and pseudo-inverse of A."
   ]
  },
  {
   "cell_type": "markdown",
   "id": "66e4fb51",
   "metadata": {},
   "source": [
    "### Closed-form solution\n"
   ]
  },
  {
   "cell_type": "code",
   "execution_count": 5,
   "id": "bc293732",
   "metadata": {},
   "outputs": [
    {
     "data": {
      "text/plain": [
       "array([9., 5., 1.])"
      ]
     },
     "execution_count": 5,
     "metadata": {},
     "output_type": "execute_result"
    }
   ],
   "source": [
    "x_close_sol = np.dot(np.linalg.inv(A), b)\n",
    "\n",
    "x_close_sol"
   ]
  },
  {
   "cell_type": "markdown",
   "id": "1808ade0",
   "metadata": {},
   "source": [
    "### Pseudo-inverse solution"
   ]
  },
  {
   "cell_type": "code",
   "execution_count": 6,
   "id": "a9df92cd",
   "metadata": {},
   "outputs": [
    {
     "data": {
      "text/plain": [
       "array([9., 5., 1.])"
      ]
     },
     "execution_count": 6,
     "metadata": {},
     "output_type": "execute_result"
    }
   ],
   "source": [
    "A_T = np.transpose(A)\n",
    "\n",
    "A_T_times_A = np.dot(A_T, A)\n",
    "A_T_times_b = np.dot(A_T, b)\n",
    "\n",
    "x_pseudo_sol = np.dot(np.linalg.inv(A_T_times_A), A_T_times_b)\n",
    "x_pseudo_sol"
   ]
  },
  {
   "cell_type": "markdown",
   "id": "5040b064",
   "metadata": {},
   "source": [
    "# b. Obtain the sum of squared error (goodness of the estimation) of this closed-form solution as follows. 𝐸 = ∑𝑛 ( 𝑥_𝑖 − 𝑥 ̂_𝑖)^2, where n is the total number of elements in the solution vector, x\n"
   ]
  },
  {
   "cell_type": "code",
   "execution_count": 7,
   "id": "aa504eca",
   "metadata": {},
   "outputs": [
    {
     "data": {
      "text/plain": [
       "2.8398992587956425e-29"
      ]
     },
     "execution_count": 7,
     "metadata": {},
     "output_type": "execute_result"
    }
   ],
   "source": [
    "closed_sol_sq_err = sum(x - x_close_sol) ** 2\n",
    "closed_sol_sq_err"
   ]
  },
  {
   "cell_type": "code",
   "execution_count": 8,
   "id": "b7dea4f0",
   "metadata": {},
   "outputs": [
    {
     "data": {
      "text/plain": [
       "4.245964936261574e-26"
      ]
     },
     "execution_count": 8,
     "metadata": {},
     "output_type": "execute_result"
    }
   ],
   "source": [
    "pseudo_sol_sq_err = sum(x - x_pseudo_sol) ** 2\n",
    "pseudo_sol_sq_err"
   ]
  },
  {
   "cell_type": "markdown",
   "id": "cb943219",
   "metadata": {},
   "source": [
    "# c. Implement the gradient descent optimization algorithm to solve for x such that it minimizes ‖ 𝐴𝑥 − 𝑏 ‖ 2 , where ||. || 2 is the two norm. You need to update the solution for x iteratively taking the slope of the error into consideration."
   ]
  },
  {
   "cell_type": "code",
   "execution_count": 12,
   "id": "b8cc8ae2",
   "metadata": {},
   "outputs": [],
   "source": [
    "n = 3\n",
    "\n",
    "def gradient_descent(A,b,x0):\n",
    "    step_size = 0.00001\n",
    "        \n",
    "    new_x = np.array([1, 1, 1])\n",
    "    \n",
    "    iteration = 0\n",
    "    max_iters = 5000\n",
    "    alpha = 0.002\n",
    "    \n",
    "    e_str = []\n",
    "    it_str = [0]\n",
    "    \n",
    "    while iteration <= max_iters:\n",
    "        \n",
    "        \n",
    "        old_x = new_x\n",
    "        e = (np.dot(A, old_x) - np.transpose(b))\n",
    "        new_x = old_x - alpha * 2 * np.dot(e, A)\n",
    "\n",
    "        e_str.append(e)\n",
    "        \n",
    "        step = new_x - old_x\n",
    "\n",
    "        \n",
    "        if (abs(step) <= step_size).all():\n",
    "            break\n",
    "\n",
    "        iteration += 1\n",
    "    \n",
    "        it_str.append(iteration)\n",
    "    \n",
    "    return new_x, e_str, it_str"
   ]
  },
  {
   "cell_type": "code",
   "execution_count": 13,
   "id": "6cfdd629",
   "metadata": {},
   "outputs": [],
   "source": [
    "x0 = 1\n",
    "x_final, e_str, itr = gradient_descent(A, b, x0)"
   ]
  },
  {
   "cell_type": "code",
   "execution_count": 441,
   "id": "2c46ec7b",
   "metadata": {},
   "outputs": [
    {
     "data": {
      "text/plain": [
       "[array([-56, -41, -23]),\n",
       " array([ 3.892, 14.916,  1.896]),\n",
       " array([-6.756512,  4.739264, -2.485856]),\n",
       " array([-4.74813965,  6.42521306, -1.61822822]),\n",
       " array([-5.01196376,  5.98535071, -1.69652027]),\n",
       " array([-4.8691151 ,  5.92972284, -1.60880506]),\n",
       " array([-4.80031564,  5.80785698, -1.55440504]),\n",
       " array([-4.71932323,  5.70052219, -1.49736188]),\n",
       " array([-4.64162991,  5.59316286, -1.44394727]),\n",
       " array([-4.56446998,  5.48833055, -1.39286536]),\n",
       " array([-4.48835164,  5.38550893, -1.34418795]),\n",
       " array([-4.41319353,  5.284734  , -1.29775054]),\n",
       " array([-4.3390181 ,  5.18594433, -1.25343965]),\n",
       " array([-4.26582736,  5.08909765, -1.21114074]),\n",
       " array([-4.19362529,  4.99414982, -1.17074712]),\n",
       " array([-4.12241397,  4.90105854, -1.13215785]),\n",
       " array([-4.05219434,  4.80978266, -1.09527777]),\n",
       " array([-3.98296623,  4.7202822 , -1.06001707]),\n",
       " array([-3.91472839,  4.6325183 , -1.026291  ]),\n",
       " array([-3.84747865,  4.54645322, -0.99401956]),\n",
       " array([-3.78121393,  4.46205022, -0.96312726]),\n",
       " array([-3.71593035,  4.37927361, -0.93354285]),\n",
       " array([-3.65162327,  4.29808863, -0.90519904]),\n",
       " array([-3.58828735,  4.21846147, -0.87803231]),\n",
       " array([-3.52591665,  4.1403592 , -0.85198271]),\n",
       " array([-3.46450463,  4.06374978, -0.8269936 ]),\n",
       " array([-3.40404422,  3.98860197, -0.80301149]),\n",
       " array([-3.3445279 ,  3.91488536, -0.77998586]),\n",
       " array([-3.28594767,  3.8425703 , -0.757869  ]),\n",
       " array([-3.22829519,  3.77162789, -0.73661582]),\n",
       " array([-3.17156171,  3.70202996, -0.71618372]),\n",
       " array([-3.11573821,  3.63374901, -0.69653244]),\n",
       " array([-3.06081535,  3.56675826, -0.67762394]),\n",
       " array([-3.00678356,  3.50103153, -0.65942224]),\n",
       " array([-2.95363302,  3.43654332, -0.64189336]),\n",
       " array([-2.90135374,  3.3732687 , -0.62500513]),\n",
       " array([-2.84993554,  3.31118334, -0.60872715]),\n",
       " array([-2.7993681 ,  3.25026351, -0.59303066]),\n",
       " array([-2.74964097,  3.19048599, -0.57788847]),\n",
       " array([-2.70074361,  3.13182813, -0.56327482]),\n",
       " array([-2.65266537,  3.07426778, -0.54916535]),\n",
       " array([-2.60539555,  3.0177833 , -0.53553701]),\n",
       " array([-2.55892339,  2.96235354, -0.52236798]),\n",
       " array([-2.5132381 ,  2.90795784, -0.50963757]),\n",
       " array([-2.46832885,  2.85457598, -0.49732622]),\n",
       " array([-2.42418483,  2.80218819, -0.48541538]),\n",
       " array([-2.38079522,  2.75077514, -0.47388749]),\n",
       " array([-2.33814921,  2.70031792, -0.46272589]),\n",
       " array([-2.29623601,  2.65079804, -0.4519148 ]),\n",
       " array([-2.25504488,  2.60219741, -0.44143927]),\n",
       " array([-2.21456511,  2.5544983 , -0.43128508]),\n",
       " array([-2.17478606,  2.5076834 , -0.4214388 ]),\n",
       " array([-2.13569713,  2.46173573, -0.41188764]),\n",
       " array([-2.0972878 ,  2.4166387 , -0.40261948]),\n",
       " array([-2.0595476 ,  2.37237605, -0.39362281]),\n",
       " array([-2.02246616,  2.32893185, -0.3848867 ]),\n",
       " array([-1.98603318,  2.28629054, -0.37640079]),\n",
       " array([-1.95023846,  2.24443684, -0.36815519]),\n",
       " array([-1.91507189,  2.20335582, -0.36014055]),\n",
       " array([-1.88052343,  2.16303282, -0.35234794]),\n",
       " array([-1.84658317,  2.1234535 , -0.34476889]),\n",
       " array([-1.8132413 ,  2.08460382, -0.33739534]),\n",
       " array([-1.78048809,  2.04647002, -0.33021963]),\n",
       " array([-1.74831395,  2.00903859, -0.32323443]),\n",
       " array([-1.71670936,  1.97229634, -0.31643281]),\n",
       " array([-1.68566496,  1.9362303 , -0.30980814]),\n",
       " array([-1.65517146,  1.90082778, -0.30335409]),\n",
       " array([-1.6252197 ,  1.86607634, -0.29706466]),\n",
       " array([-1.59580065,  1.8319638 , -0.29093411]),\n",
       " array([-1.56690537,  1.79847819, -0.28495696]),\n",
       " array([-1.53852505,  1.7656078 , -0.27912799]),\n",
       " array([-1.510651  ,  1.73334115, -0.27344221]),\n",
       " array([-1.48327465,  1.70166697, -0.26789486]),\n",
       " array([-1.45638753,  1.67057421, -0.26248138]),\n",
       " array([-1.42998132,  1.64005207, -0.25719744]),\n",
       " array([-1.40404778,  1.61008991, -0.25203886]),\n",
       " array([-1.37857881,  1.58067732, -0.24700167]),\n",
       " array([-1.35356643,  1.55180411, -0.24208206]),\n",
       " array([-1.32900278,  1.52346026, -0.2372764 ]),\n",
       " array([-1.30488009,  1.49563594, -0.23258118]),\n",
       " array([-1.28119073,  1.46832154, -0.22799306]),\n",
       " array([-1.25792719,  1.4415076 , -0.22350885]),\n",
       " array([-1.23508206,  1.41518486, -0.21912545]),\n",
       " array([-1.21264805,  1.38934423, -0.21483993]),\n",
       " array([-1.19061798,  1.36397679, -0.21064945]),\n",
       " array([-1.16898479,  1.33907382, -0.20655129]),\n",
       " array([-1.14774151,  1.31462671, -0.20254285]),\n",
       " array([-1.12688132,  1.29062707, -0.19862161]),\n",
       " array([-1.10639746,  1.26706663, -0.19478515]),\n",
       " array([-1.08628333,  1.24393729, -0.19103117]),\n",
       " array([-1.06653239,  1.22123111, -0.18735742]),\n",
       " array([-1.04713823,  1.19894029, -0.18376176]),\n",
       " array([-1.02809455,  1.17705718, -0.18024211]),\n",
       " array([-1.00939514,  1.15557427, -0.17679648]),\n",
       " array([-0.9910339 ,  1.1344842 , -0.17342295]),\n",
       " array([-0.97300482,  1.11377975, -0.17011965]),\n",
       " array([-0.95530201,  1.09345381, -0.16688481]),\n",
       " array([-0.93791966,  1.07349943, -0.16371669]),\n",
       " array([-0.92085206,  1.05390979, -0.16061363]),\n",
       " array([-0.9040936 ,  1.03467818, -0.15757401]),\n",
       " array([-0.88763877,  1.01579802, -0.15459628]),\n",
       " array([-0.87148215,  0.99726287, -0.15167893]),\n",
       " array([-0.85561841,  0.97906638, -0.14882051]),\n",
       " array([-0.84004231,  0.96120235, -0.14601961]),\n",
       " array([-0.82474869,  0.94366468, -0.14327486]),\n",
       " array([-0.8097325 ,  0.92644738, -0.14058495]),\n",
       " array([-0.79498877,  0.90954457, -0.13794859]),\n",
       " array([-0.7805126 ,  0.89295049, -0.13536454]),\n",
       " array([-0.7662992 ,  0.87665948, -0.13283162])]"
      ]
     },
     "execution_count": 441,
     "metadata": {},
     "output_type": "execute_result"
    }
   ],
   "source": [
    "e_str"
   ]
  },
  {
   "cell_type": "code",
   "execution_count": 384,
   "id": "1a653aac",
   "metadata": {},
   "outputs": [
    {
     "data": {
      "text/plain": [
       "array([77, 60, 31])"
      ]
     },
     "execution_count": 384,
     "metadata": {},
     "output_type": "execute_result"
    }
   ],
   "source": [
    "np.dot(A, x)"
   ]
  },
  {
   "cell_type": "code",
   "execution_count": 16,
   "id": "c0d68051",
   "metadata": {},
   "outputs": [
    {
     "data": {
      "text/plain": [
       "array([8.99422051, 5.0006911 , 1.00728922])"
      ]
     },
     "execution_count": 16,
     "metadata": {},
     "output_type": "execute_result"
    }
   ],
   "source": [
    "x_final"
   ]
  },
  {
   "cell_type": "code",
   "execution_count": 445,
   "id": "73ebf5b6",
   "metadata": {},
   "outputs": [
    {
     "data": {
      "text/plain": [
       "array([-0.00942767,  0.01077673, -0.0016146 ])"
      ]
     },
     "execution_count": 445,
     "metadata": {},
     "output_type": "execute_result"
    }
   ],
   "source": [
    "np.dot(A, x_final) - b"
   ]
  },
  {
   "cell_type": "markdown",
   "id": "be549034",
   "metadata": {},
   "source": [
    "# d. Plot a figure showing the sum of squared error (this is an unsupervised error, (e = Ax - b) versus the iteration number. Based on this figure state the number of iterations required to reach the minimum error point. Print the estimated solution, x."
   ]
  },
  {
   "cell_type": "code",
   "execution_count": 14,
   "id": "719ed769",
   "metadata": {},
   "outputs": [
    {
     "data": {
      "text/plain": [
       "[<matplotlib.lines.Line2D at 0x7f8fd3727d30>]"
      ]
     },
     "execution_count": 14,
     "metadata": {},
     "output_type": "execute_result"
    },
    {
     "data": {
      "image/png": "[encoded data removed]",
      "text/plain": [
       "<Figure size 640x480 with 1 Axes>"
      ]
     },
     "metadata": {},
     "output_type": "display_data"
    }
   ],
   "source": [
    "import matplotlib.pyplot as plt\n",
    "e_str = np.array(e_str)\n",
    "\n",
    "plt.plot(itr, e_str[:,0])"
   ]
  },
  {
   "cell_type": "code",
   "execution_count": 15,
   "id": "d7efb8f5",
   "metadata": {},
   "outputs": [
    {
     "data": {
      "text/plain": [
       "[<matplotlib.lines.Line2D at 0x7f8fd528aaf0>]"
      ]
     },
     "execution_count": 15,
     "metadata": {},
     "output_type": "execute_result"
    },
    {
     "data": {
      "image/png": "[encoded data removed]",
      "text/plain": [
       "<Figure size 640x480 with 1 Axes>"
      ]
     },
     "metadata": {},
     "output_type": "display_data"
    }
   ],
   "source": [
    "plt.plot(itr, e_str[:,1])"
   ]
  },
  {
   "cell_type": "code",
   "execution_count": 487,
   "id": "b4ad4bcc",
   "metadata": {},
   "outputs": [
    {
     "data": {
      "text/plain": [
       "[<matplotlib.lines.Line2D at 0x7fa635374f40>]"
      ]
     },
     "execution_count": 487,
     "metadata": {},
     "output_type": "execute_result"
    },
    {
     "data": {
      "image/png": "[encoded data removed]",
      "text/plain": [
       "<Figure size 640x480 with 1 Axes>"
      ]
     },
     "metadata": {},
     "output_type": "display_data"
    }
   ],
   "source": [
    "plt.plot(itr, e_str[:,2])"
   ]
  },
  {
   "cell_type": "markdown",
   "id": "569c51a0",
   "metadata": {},
   "source": [
    "# e. Show the sum squared error (goodness of the estimation as shown in part b), E for the final estimated x using the gradient descent algorithm.\n"
   ]
  },
  {
   "cell_type": "code",
   "execution_count": 17,
   "id": "1d8eb856",
   "metadata": {},
   "outputs": [
    {
     "data": {
      "text/plain": [
       "0.002987591897813502"
      ]
     },
     "execution_count": 17,
     "metadata": {},
     "output_type": "execute_result"
    }
   ],
   "source": [
    "grad_desc_err = sum(e_str[-1])\n",
    "\n",
    "grad_desc_err"
   ]
  },
  {
   "cell_type": "markdown",
   "id": "0d612476",
   "metadata": {},
   "source": [
    "# f. Compare the E values obtained using 1) the closed-form solution and 2) gradient descent algorithm."
   ]
  },
  {
   "cell_type": "code",
   "execution_count": 18,
   "id": "8ebe84f6",
   "metadata": {},
   "outputs": [
    {
     "name": "stdout",
     "output_type": "stream",
     "text": [
      "Closed-form error:  2.8398992587956425e-29\n",
      "Gradient-descent error:  0.002987591897813502\n"
     ]
    }
   ],
   "source": [
    "\n",
    "print(\"Closed-form error: \", closed_sol_sq_err)\n",
    "print(\"Gradient-descent error: \", grad_desc_err)"
   ]
  }
 ],
 "metadata": {
  "kernelspec": {
   "display_name": "Python 3 (ipykernel)",
   "language": "python",
   "name": "python3"
  },
  "language_info": {
   "codemirror_mode": {
    "name": "ipython",
    "version": 3
   },
   "file_extension": ".py",
   "mimetype": "text/x-python",
   "name": "python",
   "nbconvert_exporter": "python",
   "pygments_lexer": "ipython3",
   "version": "3.9.13"
  }
 },
 "nbformat": 4,
 "nbformat_minor": 5
}
