{
 "cells": [
  {
   "cell_type": "markdown",
   "id": "c05ec8b4",
   "metadata": {},
   "source": [
    "# notes on day 2"
   ]
  },
  {
   "cell_type": "markdown",
   "id": "8dcd353f",
   "metadata": {},
   "source": [
    "tuesday, january 24\n",
    "\n",
    "topics for today:\n",
    "- fundamentals of data types and structures\n",
    "- introduction to python, anaconda, spyder\n",
    "- introduction to latex, overleaf\n",
    "- fundamentals of algorithms\n",
    "- introduction of single-layer neural network\n",
    "- programming examples"
   ]
  },
  {
   "cell_type": "code",
   "execution_count": 10,
   "id": "6fe0a335",
   "metadata": {},
   "outputs": [],
   "source": [
    "import numpy as np\n",
    "import matplotlib.pyplot as plt"
   ]
  },
  {
   "cell_type": "code",
   "execution_count": 4,
   "id": "e524b6aa",
   "metadata": {},
   "outputs": [],
   "source": [
    "list_2D = [ [2, 3, 4], [7, 9, 9], [4, 9, 7] ] #this creates a 2d list"
   ]
  },
  {
   "cell_type": "markdown",
   "id": "07f6d4a3",
   "metadata": {},
   "source": [
    "it is sometimes necessary to use arrays, which only permit a single data type for its items. unlike lists, arrays have a fixed size."
   ]
  },
  {
   "cell_type": "code",
   "execution_count": 5,
   "id": "c235b5ae",
   "metadata": {},
   "outputs": [],
   "source": [
    "array_2D = np.array(list_2D)"
   ]
  },
  {
   "cell_type": "code",
   "execution_count": 6,
   "id": "34ace775",
   "metadata": {},
   "outputs": [
    {
     "name": "stdout",
     "output_type": "stream",
     "text": [
      "[[2 3 4]\n",
      " [7 9 9]\n",
      " [4 9 7]]\n"
     ]
    }
   ],
   "source": [
    "print(array_2D) #3x3"
   ]
  },
  {
   "cell_type": "code",
   "execution_count": 7,
   "id": "58786cb3",
   "metadata": {},
   "outputs": [],
   "source": [
    "list_2D_2 = [ [2, 3], [7, 9], [4, 9] ]"
   ]
  },
  {
   "cell_type": "code",
   "execution_count": 8,
   "id": "ba2e3613",
   "metadata": {},
   "outputs": [],
   "source": [
    "array_2D_2 = np.array(list_2D_2)"
   ]
  },
  {
   "cell_type": "code",
   "execution_count": 9,
   "id": "083d0ff1",
   "metadata": {},
   "outputs": [
    {
     "name": "stdout",
     "output_type": "stream",
     "text": [
      "[[2 3]\n",
      " [7 9]\n",
      " [4 9]]\n"
     ]
    }
   ],
   "source": [
    "print(array_2D_2) #3x2"
   ]
  },
  {
   "cell_type": "markdown",
   "id": "ef75df8b",
   "metadata": {},
   "source": [
    "take column 0 as x, take column 1 as y, plot x vs y"
   ]
  },
  {
   "cell_type": "code",
   "execution_count": 12,
   "id": "6326fc40",
   "metadata": {},
   "outputs": [
    {
     "data": {
      "text/plain": [
       "[<matplotlib.lines.Line2D at 0x7fcd800d3220>]"
      ]
     },
     "execution_count": 12,
     "metadata": {},
     "output_type": "execute_result"
    },
    {
     "data": {
      "image/png": "[encoded data removed]",
      "text/plain": [
       "<Figure size 640x480 with 1 Axes>"
      ]
     },
     "metadata": {},
     "output_type": "display_data"
    }
   ],
   "source": [
    "x_column = array_2D_2[:,0]  #colon: take all the rows, 0: first column\n",
    "y_column = array_2D_2[:,1]  #colon: take all the rows, 1: second column\n",
    "\n",
    "plt.plot(x_column,y_column, '*') #using marker *"
   ]
  },
  {
   "cell_type": "code",
   "execution_count": 13,
   "id": "bc94fafc",
   "metadata": {},
   "outputs": [
    {
     "data": {
      "text/plain": [
       "[<matplotlib.lines.Line2D at 0x7fcd8020ce80>]"
      ]
     },
     "execution_count": 13,
     "metadata": {},
     "output_type": "execute_result"
    },
    {
     "data": {
      "image/png": "[encoded data removed]",
      "text/plain": [
       "<Figure size 640x480 with 1 Axes>"
      ]
     },
     "metadata": {},
     "output_type": "display_data"
    }
   ],
   "source": [
    "plt.plot(x_column,y_column, 'g*') #using green marker *"
   ]
  },
  {
   "cell_type": "code",
   "execution_count": 16,
   "id": "b9cac05c",
   "metadata": {},
   "outputs": [
    {
     "name": "stdout",
     "output_type": "stream",
     "text": [
      "[[2 3]\n",
      " [7 9]\n",
      " [4 9]]\n",
      "(3, 2)\n",
      "2\n",
      "6\n",
      "3\n"
     ]
    }
   ],
   "source": [
    "print(array_2D_2)\n",
    "print(array_2D_2.shape) # check number of rows and columns\n",
    "print(array_2D_2.ndim)  # dimensionality, how many dimensions? for 2d = 2\n",
    "print(array_2D_2.size)  # total number of elements in array\n",
    "print(len(array_2D_2))  # how many rows?"
   ]
  },
  {
   "cell_type": "code",
   "execution_count": 17,
   "id": "8dfea96f",
   "metadata": {},
   "outputs": [],
   "source": [
    "zero_array = np.zeros((3,4))"
   ]
  },
  {
   "cell_type": "code",
   "execution_count": 18,
   "id": "e40d7399",
   "metadata": {},
   "outputs": [],
   "source": [
    "one_array = np.ones((5,4))"
   ]
  },
  {
   "cell_type": "code",
   "execution_count": 23,
   "id": "c2095e0d",
   "metadata": {},
   "outputs": [],
   "source": [
    "linspace = np.linspace(0,100,11) #start, end, number of numbers"
   ]
  },
  {
   "cell_type": "code",
   "execution_count": 24,
   "id": "e1264e48",
   "metadata": {},
   "outputs": [
    {
     "data": {
      "text/plain": [
       "array([  0.,  10.,  20.,  30.,  40.,  50.,  60.,  70.,  80.,  90., 100.])"
      ]
     },
     "execution_count": 24,
     "metadata": {},
     "output_type": "execute_result"
    }
   ],
   "source": [
    "linspace"
   ]
  },
  {
   "cell_type": "code",
   "execution_count": 28,
   "id": "53bdc5e9",
   "metadata": {},
   "outputs": [],
   "source": [
    "random_array = np.random.random((4,5)) #4 by 5 matrix full of random numbers between 0 and 1"
   ]
  },
  {
   "cell_type": "code",
   "execution_count": 29,
   "id": "78a6c5c3",
   "metadata": {},
   "outputs": [
    {
     "data": {
      "text/plain": [
       "array([[0.84305381, 0.31001854, 0.6460011 , 0.25785382, 0.18092051],\n",
       "       [0.99768272, 0.35320395, 0.9436762 , 0.03156378, 0.18154688],\n",
       "       [0.94294538, 0.99093147, 0.52937718, 0.1690514 , 0.93095091],\n",
       "       [0.61768378, 0.41308887, 0.83072105, 0.07775052, 0.01152896]])"
      ]
     },
     "execution_count": 29,
     "metadata": {},
     "output_type": "execute_result"
    }
   ],
   "source": [
    "random_array"
   ]
  },
  {
   "cell_type": "code",
   "execution_count": 30,
   "id": "2cbabef6",
   "metadata": {},
   "outputs": [],
   "source": [
    "A = np.array([[4, 5], [5, 1]])\n",
    "B = np.array([[-4, 1], [1, 2]])"
   ]
  },
  {
   "cell_type": "code",
   "execution_count": 31,
   "id": "3c4b4b91",
   "metadata": {},
   "outputs": [
    {
     "data": {
      "text/plain": [
       "array([[ 8,  4],\n",
       "       [ 4, -1]])"
      ]
     },
     "execution_count": 31,
     "metadata": {},
     "output_type": "execute_result"
    }
   ],
   "source": [
    "C = A - B \n",
    "C = np.subtract(A, B) #this and the line above do the same thing\n",
    "A - B"
   ]
  },
  {
   "cell_type": "code",
   "execution_count": 33,
   "id": "81cd1179",
   "metadata": {},
   "outputs": [
    {
     "data": {
      "text/plain": [
       "array([[0, 6],\n",
       "       [6, 3]])"
      ]
     },
     "execution_count": 33,
     "metadata": {},
     "output_type": "execute_result"
    }
   ],
   "source": [
    "D = A + B\n",
    "D = np.add(A, B) #this and the line above do the same thing\n",
    "A + B"
   ]
  },
  {
   "cell_type": "code",
   "execution_count": 35,
   "id": "67ad6bfe",
   "metadata": {},
   "outputs": [
    {
     "data": {
      "text/plain": [
       "array([[-16,   5],\n",
       "       [  5,   2]])"
      ]
     },
     "execution_count": 35,
     "metadata": {},
     "output_type": "execute_result"
    }
   ],
   "source": [
    "#element multiplication\n",
    "E = A*B\n",
    "E = np.multiply(A,B)\n",
    "A*B"
   ]
  },
  {
   "cell_type": "code",
   "execution_count": 36,
   "id": "3cfd49ef",
   "metadata": {},
   "outputs": [
    {
     "data": {
      "text/plain": [
       "array([[-11,  14],\n",
       "       [-19,   7]])"
      ]
     },
     "execution_count": 36,
     "metadata": {},
     "output_type": "execute_result"
    }
   ],
   "source": [
    "#matrix multiplication\n",
    "A.dot(B)"
   ]
  },
  {
   "cell_type": "code",
   "execution_count": 34,
   "id": "edcb09ea",
   "metadata": {},
   "outputs": [
    {
     "data": {
      "text/plain": [
       "array([[-1. ,  5. ],\n",
       "       [ 5. ,  0.5]])"
      ]
     },
     "execution_count": 34,
     "metadata": {},
     "output_type": "execute_result"
    }
   ],
   "source": [
    "#element division\n",
    "F = A/B\n",
    "F = np.divide(A, B)\n",
    "A/B"
   ]
  },
  {
   "cell_type": "code",
   "execution_count": 39,
   "id": "187f6d90",
   "metadata": {},
   "outputs": [
    {
     "data": {
      "text/plain": [
       "array([[ 54.59815003, 148.4131591 ],\n",
       "       [148.4131591 ,   2.71828183]])"
      ]
     },
     "execution_count": 39,
     "metadata": {},
     "output_type": "execute_result"
    }
   ],
   "source": [
    "exp_A = np.exp(A) #e to the power of each element\n",
    "exp_A"
   ]
  },
  {
   "cell_type": "code",
   "execution_count": 40,
   "id": "cd527bc9",
   "metadata": {},
   "outputs": [
    {
     "data": {
      "text/plain": [
       "array([[2.        , 2.23606798],\n",
       "       [2.23606798, 1.        ]])"
      ]
     },
     "execution_count": 40,
     "metadata": {},
     "output_type": "execute_result"
    }
   ],
   "source": [
    "sqrt_A = np.sqrt(A) #sqrt of each element\n",
    "sqrt_A"
   ]
  },
  {
   "cell_type": "code",
   "execution_count": 42,
   "id": "64810d6d",
   "metadata": {},
   "outputs": [
    {
     "data": {
      "text/plain": [
       "array([[-0.7568025 , -0.95892427],\n",
       "       [-0.95892427,  0.84147098]])"
      ]
     },
     "execution_count": 42,
     "metadata": {},
     "output_type": "execute_result"
    }
   ],
   "source": [
    "sin_A = np.sin(A)\n",
    "sin_A"
   ]
  },
  {
   "cell_type": "code",
   "execution_count": 43,
   "id": "ca53af66",
   "metadata": {},
   "outputs": [
    {
     "data": {
      "text/plain": [
       "array([[-0.65364362,  0.28366219],\n",
       "       [ 0.28366219,  0.54030231]])"
      ]
     },
     "execution_count": 43,
     "metadata": {},
     "output_type": "execute_result"
    }
   ],
   "source": [
    "cos_A = np.cos(A)\n",
    "cos_A"
   ]
  },
  {
   "cell_type": "code",
   "execution_count": 44,
   "id": "60e90994",
   "metadata": {},
   "outputs": [
    {
     "data": {
      "text/plain": [
       "array([[1.38629436, 1.60943791],\n",
       "       [1.60943791, 0.        ]])"
      ]
     },
     "execution_count": 44,
     "metadata": {},
     "output_type": "execute_result"
    }
   ],
   "source": [
    "log_A = np.log(A)\n",
    "log_A"
   ]
  },
  {
   "cell_type": "code",
   "execution_count": 48,
   "id": "c3e2c33c",
   "metadata": {},
   "outputs": [
    {
     "data": {
      "text/plain": [
       "[<matplotlib.lines.Line2D at 0x7fcd80280bb0>]"
      ]
     },
     "execution_count": 48,
     "metadata": {},
     "output_type": "execute_result"
    },
    {
     "data": {
      "image/png": "[encoded data removed]",
      "text/plain": [
       "<Figure size 640x480 with 1 Axes>"
      ]
     },
     "metadata": {},
     "output_type": "display_data"
    }
   ],
   "source": [
    "#plotting the exponential function\n",
    "x_values = np.linspace(0, 10, 51)\n",
    "y_values = np.exp(x_values)\n",
    "\n",
    "plt.plot(x_values, y_values, '*')"
   ]
  },
  {
   "cell_type": "code",
   "execution_count": 51,
   "id": "07ebd401",
   "metadata": {},
   "outputs": [
    {
     "data": {
      "text/plain": [
       "Text(0, 0.5, 'exp(x)')"
      ]
     },
     "execution_count": 51,
     "metadata": {},
     "output_type": "execute_result"
    },
    {
     "data": {
      "image/png": "[encoded data removed]",
      "text/plain": [
       "<Figure size 640x480 with 1 Axes>"
      ]
     },
     "metadata": {},
     "output_type": "display_data"
    }
   ],
   "source": [
    "plt.plot(x_values, y_values, '-*') #changing the marker to include a line\n",
    "plt.title('Exponential function')\n",
    "plt.xlabel('x')\n",
    "plt.ylabel('exp(x)')"
   ]
  },
  {
   "cell_type": "code",
   "execution_count": 52,
   "id": "df827abb",
   "metadata": {},
   "outputs": [
    {
     "data": {
      "text/plain": [
       "55"
      ]
     },
     "execution_count": 52,
     "metadata": {},
     "output_type": "execute_result"
    }
   ],
   "source": [
    "#sum of first n integers = (n(n+1))/2\n",
    "#implementing using for-loop\n",
    "my_sum = 0\n",
    "\n",
    "for value in range(11): #range of 11 numbers (from 0 to 10)\n",
    "    my_sum += value\n",
    "    \n",
    "my_sum"
   ]
  },
  {
   "cell_type": "code",
   "execution_count": 54,
   "id": "0d6d30b3",
   "metadata": {},
   "outputs": [
    {
     "data": {
      "text/plain": [
       "37"
      ]
     },
     "execution_count": 54,
     "metadata": {},
     "output_type": "execute_result"
    }
   ],
   "source": [
    "#if statement to exclude values divisible by 3\n",
    "my_sum = 0\n",
    "\n",
    "for value in range(11): #range of 11 numbers (from 0 to 10)\n",
    "    \n",
    "    if value%3 != 0:\n",
    "        my_sum += value\n",
    "    \n",
    "my_sum"
   ]
  },
  {
   "cell_type": "code",
   "execution_count": 55,
   "id": "b4030a48",
   "metadata": {},
   "outputs": [],
   "source": [
    "#define a function to calculate rho\n",
    "def cal_distance(x, y):\n",
    "    \n",
    "    ro = np.sqrt(x**2 + y**2)\n",
    "    \n",
    "    return ro"
   ]
  },
  {
   "cell_type": "code",
   "execution_count": 63,
   "id": "d5d7dfaf",
   "metadata": {},
   "outputs": [
    {
     "data": {
      "text/plain": [
       "array([6.40312424, 5.09901951, 3.16227766, 5.38516481, 2.23606798])"
      ]
     },
     "execution_count": 63,
     "metadata": {},
     "output_type": "execute_result"
    }
   ],
   "source": [
    "A = np.array ([[4,5], [5,1], [-1, 3], [5,2], [2,1]])\n",
    "\n",
    "x_val = A[:,0] #get all rows, the first column\n",
    "y_val = A[:,1] #get all rows, the second column\n",
    "\n",
    "ro = cal_distance(x_val, y_val)\n",
    "ro"
   ]
  },
  {
   "cell_type": "code",
   "execution_count": 64,
   "id": "3efc6ed2",
   "metadata": {},
   "outputs": [],
   "source": [
    "def cal_angle(x, y):\n",
    "    theta = np.arctan(y/x)\n",
    "    \n",
    "    return theta"
   ]
  },
  {
   "cell_type": "code",
   "execution_count": 66,
   "id": "c3e46927",
   "metadata": {},
   "outputs": [
    {
     "data": {
      "text/plain": [
       "array([ 0.89605538,  0.19739556, -1.24904577,  0.38050638,  0.46364761])"
      ]
     },
     "execution_count": 66,
     "metadata": {},
     "output_type": "execute_result"
    }
   ],
   "source": [
    "theta = cal_angle(x_val, y_val)\n",
    "theta"
   ]
  },
  {
   "cell_type": "code",
   "execution_count": null,
   "id": "b53390bf",
   "metadata": {},
   "outputs": [],
   "source": []
  }
 ],
 "metadata": {
  "kernelspec": {
   "display_name": "Python 3 (ipykernel)",
   "language": "python",
   "name": "python3"
  },
  "language_info": {
   "codemirror_mode": {
    "name": "ipython",
    "version": 3
   },
   "file_extension": ".py",
   "mimetype": "text/x-python",
   "name": "python",
   "nbconvert_exporter": "python",
   "pygments_lexer": "ipython3",
   "version": "3.9.13"
  }
 },
 "nbformat": 4,
 "nbformat_minor": 5
}
