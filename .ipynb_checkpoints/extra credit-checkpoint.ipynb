{
 "cells": [
  {
   "cell_type": "code",
   "execution_count": 1,
   "id": "e0998f54",
   "metadata": {},
   "outputs": [],
   "source": [
    "import numpy as np\n",
    "import random"
   ]
  },
  {
   "cell_type": "markdown",
   "id": "d950c0e4",
   "metadata": {},
   "source": [
    "# Programming mathematical equations"
   ]
  },
  {
   "cell_type": "code",
   "execution_count": 7,
   "id": "8cb5eb60",
   "metadata": {},
   "outputs": [
    {
     "name": "stdout",
     "output_type": "stream",
     "text": [
      "[0.7873865415026025, 0.503124786294758, 0.13656564210307287, 0.25326439697117054, 0.4197678191065819] [0.37200298611007365, 0.3987671871061903, 0.9438690063229509, 0.33441361109302814, 0.22896037551530235] [0.7647632943815544, 0.976875377023421, 0.3979018237142333, 0.04217109809686925, 0.03726721035799563]\n"
     ]
    }
   ],
   "source": [
    "A = []\n",
    "B = []\n",
    "C = []\n",
    "\n",
    "for i in range(0,5):\n",
    "    A.append(random.random())\n",
    "    B.append(random.random())\n",
    "    C.append(random.random())\n",
    "    \n",
    "print(A, B, C)"
   ]
  },
  {
   "cell_type": "code",
   "execution_count": 21,
   "id": "b2daecce",
   "metadata": {},
   "outputs": [],
   "source": [
    "A = np.array(A)\n",
    "B = np.array(B)\n",
    "C = np.array(C)"
   ]
  },
  {
   "cell_type": "code",
   "execution_count": 22,
   "id": "168782df",
   "metadata": {},
   "outputs": [],
   "source": [
    "def dist_one(A, B):\n",
    "    dist = (sum((A-B)**2))**0.5\n",
    "    return dist\n",
    "\n",
    "def dist_two(A, B):\n",
    "    dist = ((A-B).transpose()*(A-B))**0.5\n",
    "    return dist\n",
    "\n",
    "def cosine(A, B):\n",
    "    cosine = A@B/(sum(A*A)*sum(B*B))\n",
    "    return cosine"
   ]
  },
  {
   "cell_type": "code",
   "execution_count": 23,
   "id": "6ffda332",
   "metadata": {},
   "outputs": [
    {
     "data": {
      "text/plain": [
       "0.5245749247370851"
      ]
     },
     "execution_count": 23,
     "metadata": {},
     "output_type": "execute_result"
    }
   ],
   "source": [
    "dist_one(A, B)\n",
    "dist_two(A, B)\n",
    "cosine(A, B)"
   ]
  },
  {
   "cell_type": "code",
   "execution_count": 30,
   "id": "3a38e4a0",
   "metadata": {},
   "outputs": [
    {
     "data": {
      "text/plain": [
       "array([[0.41040639, 0.09536736, 0.16081614, 0.29991948, 0.27007556],\n",
       "       [0.25562835, 0.29787999, 0.31024081, 0.65106737, 0.19524691],\n",
       "       [0.2885743 , 0.66148722, 0.12419568, 0.51256206, 0.97893563],\n",
       "       [0.98538127, 0.41825594, 0.40777816, 0.08419907, 0.4906377 ]])"
      ]
     },
     "execution_count": 30,
     "metadata": {},
     "output_type": "execute_result"
    }
   ],
   "source": [
    "P = np.random.rand(4,5)\n",
    "Q = np.random.rand(4,5)\n",
    "\n",
    "P"
   ]
  },
  {
   "cell_type": "code",
   "execution_count": 40,
   "id": "4c4a7311",
   "metadata": {},
   "outputs": [
    {
     "data": {
      "text/plain": [
       "array([0.36628268, 0.71233779, 1.75729987, 1.56001215])"
      ]
     },
     "execution_count": 40,
     "metadata": {},
     "output_type": "execute_result"
    }
   ],
   "source": [
    "def row_norm(P):\n",
    "    row_norm = np.zeros(len(P))\n",
    "    for i in range(len(P)):\n",
    "        row_norm[i] = sum(P[i]**2)\n",
    "    return row_norm\n",
    "\n",
    "rnorm = row_norm(P)\n",
    "rnorm"
   ]
  },
  {
   "cell_type": "code",
   "execution_count": 38,
   "id": "91c55758",
   "metadata": {},
   "outputs": [
    {
     "data": {
      "text/plain": [
       "6.163328861638529"
      ]
     },
     "execution_count": 38,
     "metadata": {},
     "output_type": "execute_result"
    }
   ],
   "source": [
    "def two_one(P):\n",
    "    two_one = sum(P*P)\n",
    "    return two_one\n",
    "\n",
    "two_one(rnorm)"
   ]
  },
  {
   "cell_type": "markdown",
   "id": "884bf4c5",
   "metadata": {},
   "source": [
    "# Programming algorithm"
   ]
  },
  {
   "cell_type": "code",
   "execution_count": null,
   "id": "ab3feb87",
   "metadata": {},
   "outputs": [],
   "source": [
    "def gradient_descent(m_curr, b_curr, x, y, learningRate):\n",
    "    m_gradient = 0\n",
    "    b_gradient = 0\n",
    "    \n",
    "    n = nlen(x)\n",
    "    \n",
    "    for i in range(n):\n",
    "        m_gradient += -(2/n) * x * (y - (m_curr * x + b_curr))\n",
    "        b_gradient += -(2/n) * (y - (m_curr * x + b_curr))\n",
    "        \n",
    "    m = m_curr - m_gradient * learningRate\n",
    "    b = b_curr - b_gradient * learningRate"
   ]
  },
  {
   "cell_type": "code",
   "execution_count": null,
   "id": "0d72169d",
   "metadata": {},
   "outputs": [],
   "source": [
    "m = 0\n",
    "b = 0\n",
    "learningRate = 0.001"
   ]
  },
  {
   "cell_type": "code",
   "execution_count": null,
   "id": "50ce88a9",
   "metadata": {},
   "outputs": [],
   "source": []
  }
 ],
 "metadata": {
  "kernelspec": {
   "display_name": "Python 3 (ipykernel)",
   "language": "python",
   "name": "python3"
  },
  "language_info": {
   "codemirror_mode": {
    "name": "ipython",
    "version": 3
   },
   "file_extension": ".py",
   "mimetype": "text/x-python",
   "name": "python",
   "nbconvert_exporter": "python",
   "pygments_lexer": "ipython3",
   "version": "3.9.13"
  }
 },
 "nbformat": 4,
 "nbformat_minor": 5
}
